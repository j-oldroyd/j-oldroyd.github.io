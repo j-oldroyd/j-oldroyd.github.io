{
 "cells": [
  {
   "cell_type": "markdown",
   "metadata": {},
   "source": [
    "# Working with Series\n",
    "This lab has the following goals:\n",
    "- Understand convergence of series as limits of partial sums.\n",
    "- Explore the family of $p$-series.\n",
    "- Investigate growth of partial sums of the harmonic series.\n",
    "- Investigate the alternating harmonic series and its rearrangements."
   ]
  },
  {
   "cell_type": "markdown",
   "metadata": {},
   "source": [
    "Recall that the value of an infinite series of the form $\\sum_{k=0}^{\\infty}b_k$ is determined by the limit of its partial sums $S_n$, assuming the limit exists:\n",
    "$$\\sum_{k=0}^{\\infty}b_k = \\lim_{n\\to\\infty}S_n \\text{ where }S_n = \\sum_{k=0}^{n}b_k.$$\n",
    "If the limit exists then the series **converges** to the value of the limit. Otherwise we say that the series **diverges**."
   ]
  },
  {
   "cell_type": "markdown",
   "metadata": {},
   "source": [
    "**Example 1**: Using partial sums, determine if the series $\\sum_{k=1}^{\\infty}k\\left(\\frac{2}{5}\\right)^{k}$ converges or diverges. If it appears that the series converges, estimate the value of the series."
   ]
  },
  {
   "cell_type": "code",
   "execution_count": 1,
   "metadata": {},
   "outputs": [
    {
     "data": {
      "text/plain": [
       "1.10164480000000"
      ]
     },
     "execution_count": 1,
     "metadata": {},
     "output_type": "execute_result"
    }
   ],
   "source": [
    "var('k')\n",
    "N(sum(k * (2/5)^k, k, 1, 7)) # represents the decimal value of S_7, adjust as needed for more partial sums"
   ]
  },
  {
   "cell_type": "markdown",
   "metadata": {},
   "source": [
    "**Answer**: The series $\\sum_{k=1}^{\\infty}k\\left(\\frac{2}{5}\\right)^k$..."
   ]
  },
  {
   "cell_type": "markdown",
   "metadata": {},
   "source": [
    "## $p$-Series\n",
    "An important family of infinite series is the **$p$-series**, which is defined for a given value of $p$ as\n",
    "$$\\sum_{k=1}^{\\infty}\\frac{1}{k^p} = 1 + \\frac{1}{2^p} + \\frac{1}{3^p} + \\cdots$$\n",
    "As we discussed in lecture, this series diverges if $p\\leq1$ and converges if $p > 1$. Now we'll try to get some intuition for why this is the case."
   ]
  },
  {
   "cell_type": "markdown",
   "metadata": {},
   "source": [
    "**Example 2**: Consider a $p$-series with $p = \\frac{1}{2}$, so $\\displaystyle\\sum_{k=1}^{\\infty}\\frac{1}{k^{0.5}}$. Compute partial sums for this series using $n = 10, 100$ and $1000$ and explain why the series should diverge based on your computations."
   ]
  },
  {
   "cell_type": "code",
   "execution_count": 2,
   "metadata": {},
   "outputs": [
    {
     "data": {
      "text/plain": [
       "5.0209978992926665"
      ]
     },
     "execution_count": 2,
     "metadata": {},
     "output_type": "execute_result"
    }
   ],
   "source": [
    "sum(1/k^.5, k, 1, 10) # partial sum for n = 10"
   ]
  },
  {
   "cell_type": "markdown",
   "metadata": {},
   "source": [
    "**Example 3**: Compute partial sums of a $p$-series with $p = 2$, $\\sum_{k=1}^{\\infty}\\frac{1}{k^2}$, using $n = 10, 100$ and $1000$ and explain why your computations show the series converges. What is your best estimate from your computations for the exact value of the series?"
   ]
  },
  {
   "cell_type": "code",
   "execution_count": 3,
   "metadata": {},
   "outputs": [
    {
     "data": {
      "text/plain": [
       "1.54976773116654"
      ]
     },
     "execution_count": 3,
     "metadata": {},
     "output_type": "execute_result"
    }
   ],
   "source": [
    "sum(1/k^2, k, 1, 10).n() # partial sum for n = 10"
   ]
  },
  {
   "cell_type": "markdown",
   "metadata": {},
   "source": [
    "**Example 4**: The code below plots the terms $\\frac{1}{\\sqrt{k}}$ and $\\frac{1}{k^2}$ of the previous two $p$-series:"
   ]
  },
  {
   "cell_type": "code",
   "execution_count": 4,
   "metadata": {},
   "outputs": [
    {
     "data": {
      "image/png": "[encoded data removed]",
      "text/plain": [
       "Graphics object consisting of 2 graphics primitives"
      ]
     },
     "metadata": {},
     "output_type": "display_data"
    }
   ],
   "source": [
    "pts1 = [(k, 1/sqrt(k)) for k in srange(1, 100)]\n",
    "pts2 = [(k, 1/k^2) for k in srange(1, 100)]\n",
    "\n",
    "P = list_plot(pts1, legend_label=r'$\\frac{1}{\\sqrt{k}}$')\n",
    "P += list_plot(pts2, color='red', legend_label=r'$\\frac{1}{k^2}$')\n",
    "P.show()"
   ]
  },
  {
   "cell_type": "markdown",
   "metadata": {},
   "source": [
    "Both sequences of terms go to $0$, so why should $\\sum_{k=1}^{\\infty}\\frac{1}{\\sqrt{k}}$ diverge and $\\sum_{k=1}^{\\infty}\\frac{1}{k^2}$ converge, based on the above graph?"
   ]
  },
  {
   "cell_type": "markdown",
   "metadata": {},
   "source": [
    "**Answer**: The reason that the first series diverges while the second series converges is..."
   ]
  },
  {
   "cell_type": "markdown",
   "metadata": {},
   "source": [
    "The **harmonic series** is the special $p$-series with $p = 1$: $\\sum_{k=1}^{\\infty}\\frac{1}{k}$. Since this series diverges (as $p\\leq1$) but $p$-series will converge if $p > 1$, then the harmonic series can be viewed as being on the \"edge\" of being a convergent series. It just \"barely\" diverges, and is notorious for how slowly it increases."
   ]
  },
  {
   "cell_type": "markdown",
   "metadata": {},
   "source": [
    "**Example 5**: Using the code cell below, compare the rate of divergence of the $p$-series with $p = \\frac{1}{2}$ with the harmonic series by finding the number of terms $n$ required for the corresponding partial sum $S_n$ to exceed $10$."
   ]
  },
  {
   "cell_type": "code",
   "execution_count": 5,
   "metadata": {},
   "outputs": [
    {
     "data": {
      "text/plain": [
       "3.23167064587613"
      ]
     },
     "execution_count": 5,
     "metadata": {},
     "output_type": "execute_result"
    }
   ],
   "source": [
    "p = 1/2 # change to 1 for harmonic series\n",
    "n = 5 # starting with 5 terms, change as needed until your partial sum is larger than 10\n",
    "sum(1/k^p, k, 1, n).n() # current value of nth partial sum"
   ]
  },
  {
   "cell_type": "markdown",
   "metadata": {},
   "source": [
    "**Answer**: We need the first ... terms of $\\sum_{k=1}^{\\infty}\\frac{1}{\\sqrt{k}}$ to get a partial sum larger than $10$, and we need the first ... terms of $\\sum_{k=1}^{\\infty}\\frac{1}{k}$ to get a partial sum larger than $10$."
   ]
  },
  {
   "cell_type": "markdown",
   "metadata": {},
   "source": [
    "## Alternating Harmonic Series\n",
    "The **alternating harmonic series** is defined by $\\sum_{k=1}^{\\infty}\\frac{(-1)^{k+1}}{k}$. This is almost the same as the harmonic series except we alternate signs every term (because of the $(-1)^{k+1}$ in the sum). This series exhibits several interesting properties due to being **conditionally convergent**: the series itself converges (to $\\ln(2)$ in fact) but changing every sign to a positive (or to a negative!) causes the resulting series to diverge.\n",
    "\n",
    "However, even simpler changes can drastically alter the value of this series. Because $\\sum_{k=1}^{\\infty}\\frac{(-1)^{k+1}}{k}$ is conditionally convergent, it turns out that even just *rearranging* the order terms appear in, without changing their sign, can change the value of the series."
   ]
  },
  {
   "cell_type": "markdown",
   "metadata": {},
   "source": [
    "**Example 6**: By computing an appropriate partial sum, explain why\n",
    "$$\\sum_{k=1}^{\\infty}\\frac{(-1)^{k+1}}{k} = 1 - \\frac{1}{2} + \\frac{1}{3} - \\frac{1}{4} + \\frac{1}{5} - \\frac{1}{6} + \\cdots = \\ln(2).$$\n",
    "Then explain why the value of the rearranged series\n",
    "$$1 - \\frac{1}{2} - \\frac{1}{4} + \\frac{1}{3} - \\frac{1}{6} - \\frac{1}{8} + \\frac{1}{5} - \\frac{1}{10} - \\frac{1}{12} + \\cdots$$\n",
    "must be $\\frac{1}{2}\\ln(2).$"
   ]
  },
  {
   "cell_type": "code",
   "execution_count": 6,
   "metadata": {},
   "outputs": [
    {
     "data": {
      "text/plain": [
       "(0.645634920634921, 0.693147180559945)"
      ]
     },
     "execution_count": 6,
     "metadata": {},
     "output_type": "execute_result"
    }
   ],
   "source": [
    "N(sum((-1)^(k+1)/k, k, 1, 10)), N(ln(2))"
   ]
  },
  {
   "cell_type": "markdown",
   "metadata": {},
   "source": [
    "## A Bad Joke\n",
    "If $\\sum_{k=1}^{\\infty}\\frac{1}{k^p}$ is a $p$-series, then what is $\\sum_{k=1}^{\\infty}\\frac{1}{k^{\\text{world}}}$?"
   ]
  }
 ],
 "metadata": {
  "kernelspec": {
   "display_name": "SageMath 9.2",
   "language": "sage",
   "name": "sagemath"
  },
  "language_info": {
   "codemirror_mode": {
    "name": "ipython",
    "version": 3
   },
   "file_extension": ".py",
   "mimetype": "text/x-python",
   "name": "python",
   "nbconvert_exporter": "python",
   "pygments_lexer": "ipython3",
   "version": "3.7.7"
  }
 },
 "nbformat": 4,
 "nbformat_minor": 4
}
